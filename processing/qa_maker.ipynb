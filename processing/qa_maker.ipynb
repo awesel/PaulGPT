{
 "cells": [
  {
   "cell_type": "code",
   "execution_count": 1,
   "id": "b64eb447",
   "metadata": {},
   "outputs": [],
   "source": [
    "import pandas as pd"
   ]
  },
  {
   "cell_type": "code",
   "execution_count": 2,
   "id": "35567c1d",
   "metadata": {},
   "outputs": [
    {
     "data": {
      "text/html": [
       "<div>\n",
       "<style scoped>\n",
       "    .dataframe tbody tr th:only-of-type {\n",
       "        vertical-align: middle;\n",
       "    }\n",
       "\n",
       "    .dataframe tbody tr th {\n",
       "        vertical-align: top;\n",
       "    }\n",
       "\n",
       "    .dataframe thead th {\n",
       "        text-align: right;\n",
       "    }\n",
       "</style>\n",
       "<table border=\"1\" class=\"dataframe\">\n",
       "  <thead>\n",
       "    <tr style=\"text-align: right;\">\n",
       "      <th></th>\n",
       "      <th>paragraph</th>\n",
       "    </tr>\n",
       "  </thead>\n",
       "  <tbody>\n",
       "    <tr>\n",
       "      <th>0</th>\n",
       "      <td>One of the most important things I didn't unde...</td>\n",
       "    </tr>\n",
       "    <tr>\n",
       "      <th>1</th>\n",
       "      <td>Teachers and coaches implicitly told us the re...</td>\n",
       "    </tr>\n",
       "    <tr>\n",
       "      <th>2</th>\n",
       "      <td>It's obviously true that the returns for perfo...</td>\n",
       "    </tr>\n",
       "    <tr>\n",
       "      <th>3</th>\n",
       "      <td>You can't understand the world without underst...</td>\n",
       "    </tr>\n",
       "    <tr>\n",
       "      <th>4</th>\n",
       "      <td>It may seem as if there are a lot of different...</td>\n",
       "    </tr>\n",
       "  </tbody>\n",
       "</table>\n",
       "</div>"
      ],
      "text/plain": [
       "                                           paragraph\n",
       "0  One of the most important things I didn't unde...\n",
       "1  Teachers and coaches implicitly told us the re...\n",
       "2  It's obviously true that the returns for perfo...\n",
       "3  You can't understand the world without underst...\n",
       "4  It may seem as if there are a lot of different..."
      ]
     },
     "execution_count": 2,
     "metadata": {},
     "output_type": "execute_result"
    }
   ],
   "source": [
    "df = pd.read_csv(\"pg_paragraphs.csv\")\n",
    "df.head()"
   ]
  },
  {
   "cell_type": "code",
   "execution_count": 3,
   "id": "b60a79fc",
   "metadata": {},
   "outputs": [
    {
     "data": {
      "text/html": [
       "<div>\n",
       "<style scoped>\n",
       "    .dataframe tbody tr th:only-of-type {\n",
       "        vertical-align: middle;\n",
       "    }\n",
       "\n",
       "    .dataframe tbody tr th {\n",
       "        vertical-align: top;\n",
       "    }\n",
       "\n",
       "    .dataframe thead th {\n",
       "        text-align: right;\n",
       "    }\n",
       "</style>\n",
       "<table border=\"1\" class=\"dataframe\">\n",
       "  <thead>\n",
       "    <tr style=\"text-align: right;\">\n",
       "      <th></th>\n",
       "      <th>paragraph</th>\n",
       "      <th>length</th>\n",
       "    </tr>\n",
       "  </thead>\n",
       "  <tbody>\n",
       "    <tr>\n",
       "      <th>0</th>\n",
       "      <td>One of the most important things I didn't unde...</td>\n",
       "      <td>155</td>\n",
       "    </tr>\n",
       "    <tr>\n",
       "      <th>1</th>\n",
       "      <td>Teachers and coaches implicitly told us the re...</td>\n",
       "      <td>313</td>\n",
       "    </tr>\n",
       "    <tr>\n",
       "      <th>2</th>\n",
       "      <td>It's obviously true that the returns for perfo...</td>\n",
       "      <td>429</td>\n",
       "    </tr>\n",
       "    <tr>\n",
       "      <th>3</th>\n",
       "      <td>You can't understand the world without underst...</td>\n",
       "      <td>178</td>\n",
       "    </tr>\n",
       "    <tr>\n",
       "      <th>4</th>\n",
       "      <td>It may seem as if there are a lot of different...</td>\n",
       "      <td>182</td>\n",
       "    </tr>\n",
       "  </tbody>\n",
       "</table>\n",
       "</div>"
      ],
      "text/plain": [
       "                                           paragraph  length\n",
       "0  One of the most important things I didn't unde...     155\n",
       "1  Teachers and coaches implicitly told us the re...     313\n",
       "2  It's obviously true that the returns for perfo...     429\n",
       "3  You can't understand the world without underst...     178\n",
       "4  It may seem as if there are a lot of different...     182"
      ]
     },
     "execution_count": 3,
     "metadata": {},
     "output_type": "execute_result"
    }
   ],
   "source": [
    "df[\"length\"] = df[\"paragraph\"].str.len()\n",
    "df.head()"
   ]
  },
  {
   "cell_type": "code",
   "execution_count": 4,
   "id": "9043adfe",
   "metadata": {},
   "outputs": [
    {
     "data": {
      "image/png": "[encoded data removed]",
      "text/plain": [
       "<Figure size 640x480 with 1 Axes>"
      ]
     },
     "metadata": {},
     "output_type": "display_data"
    }
   ],
   "source": [
    "import matplotlib.pyplot as plt\n",
    "\n",
    "df['length'] = df['paragraph'].str.len()\n",
    "\n",
    "plt.hist(df['length'], bins=1000)\n",
    "plt.xlim(0, 1500)  # show only up to 1500 characters\n",
    "plt.xlabel(\"Paragraph Length (characters)\")\n",
    "plt.ylabel(\"Count\")\n",
    "plt.title(\"Distribution of Paragraph Lengths (Clipped at 1500)\")\n",
    "plt.show()"
   ]
  },
  {
   "cell_type": "code",
   "execution_count": 5,
   "id": "84aaf7a7",
   "metadata": {},
   "outputs": [],
   "source": [
    "filtered_df = df[(df['length'] >= 150) & (df['length'] <= 800)]"
   ]
  },
  {
   "cell_type": "code",
   "execution_count": 6,
   "id": "b862d664",
   "metadata": {},
   "outputs": [
    {
     "data": {
      "image/png": "[encoded data removed]",
      "text/plain": [
       "<Figure size 640x480 with 1 Axes>"
      ]
     },
     "metadata": {},
     "output_type": "display_data"
    }
   ],
   "source": [
    "plt.hist(filtered_df['length'], bins=1000)\n",
    "plt.xlim(0, 1500)  # show only up to 1500 characters\n",
    "plt.xlabel(\"Paragraph Length (characters)\")\n",
    "plt.ylabel(\"Count\")\n",
    "plt.title(\"Distribution of Paragraph Lengths (Clipped at 1500)\")\n",
    "plt.show()"
   ]
  },
  {
   "cell_type": "code",
   "execution_count": 7,
   "id": "d9165a51",
   "metadata": {},
   "outputs": [],
   "source": [
    "import openai\n",
    "from openai import OpenAI\n",
    "import time\n",
    "import os\n",
    "from dotenv import load_dotenv"
   ]
  },
  {
   "cell_type": "code",
   "execution_count": 8,
   "id": "42714694",
   "metadata": {},
   "outputs": [],
   "source": [
    "load_dotenv()\n",
    "openai.api_key = os.getenv(\"OPENAI_API_KEY\")\n",
    "client = OpenAI(\n",
    "    api_key=os.environ.get(\"OPENAI_API_KEY\")\n",
    ")"
   ]
  },
  {
   "cell_type": "code",
   "execution_count": 9,
   "id": "fd41151e",
   "metadata": {},
   "outputs": [],
   "source": [
    "def get_question_from_gpt(paragraph):\n",
    "    prompt = f\"\"\"Given the following paragraph, generate a concise, insightful question that this paragraph could be an answer to.\n",
    "\n",
    "Paragraph:\n",
    "\\\"\\\"\\\"{paragraph}\\\"\\\"\\\"\n",
    "\n",
    "Question:\"\"\"\n",
    "\n",
    "    try:\n",
    "        response = client.chat.completions.create(  # fallback method if responses still missing\n",
    "            model=\"gpt-4o-mini\",\n",
    "            messages=[\n",
    "                {\"role\": \"system\", \"content\": \"You are a helpful assistant that generates concise questions based on paragraphs.\"},\n",
    "                {\"role\": \"user\", \"content\": prompt},\n",
    "            ],\n",
    "            temperature=0.7,\n",
    "            max_tokens=60,\n",
    "        )\n",
    "        return response.choices[0].message.content.strip()\n",
    "    except Exception as e:\n",
    "        print(\"GPT is confused again:\", e)\n",
    "        return None"
   ]
  },
  {
   "cell_type": "code",
   "execution_count": 10,
   "id": "5f836d44",
   "metadata": {},
   "outputs": [
    {
     "name": "stdout",
     "output_type": "stream",
     "text": [
      "✨ Question generation complete.\n"
     ]
    },
    {
     "name": "stderr",
     "output_type": "stream",
     "text": [
      "/var/folders/nk/5zcc814x561cbxxgrncjyscw0000gn/T/ipykernel_44286/1340360635.py:2: SettingWithCopyWarning: \n",
      "A value is trying to be set on a copy of a slice from a DataFrame.\n",
      "Try using .loc[row_indexer,col_indexer] = value instead\n",
      "\n",
      "See the caveats in the documentation: https://pandas.pydata.org/pandas-docs/stable/user_guide/indexing.html#returning-a-view-versus-a-copy\n",
      "  filtered_df[\"question\"] = filtered_df[\"paragraph\"].apply(lambda p: get_question_from_gpt(p) if isinstance(p, str) else None)\n"
     ]
    }
   ],
   "source": [
    "# Add question column\n",
    "filtered_df[\"question\"] = filtered_df[\"paragraph\"].apply(lambda p: get_question_from_gpt(p) if isinstance(p, str) else None)\n",
    "\n",
    "# Optional: Save it to a new CSV\n",
    "filtered_df.to_csv(\"pg_question_pairs.csv\", index=False)\n",
    "\n",
    "print(\"✨ Question generation complete.\")"
   ]
  },
  {
   "cell_type": "code",
   "execution_count": 11,
   "id": "5f816e9b",
   "metadata": {},
   "outputs": [
    {
     "data": {
      "text/html": [
       "<div>\n",
       "<style scoped>\n",
       "    .dataframe tbody tr th:only-of-type {\n",
       "        vertical-align: middle;\n",
       "    }\n",
       "\n",
       "    .dataframe tbody tr th {\n",
       "        vertical-align: top;\n",
       "    }\n",
       "\n",
       "    .dataframe thead th {\n",
       "        text-align: right;\n",
       "    }\n",
       "</style>\n",
       "<table border=\"1\" class=\"dataframe\">\n",
       "  <thead>\n",
       "    <tr style=\"text-align: right;\">\n",
       "      <th></th>\n",
       "      <th>paragraph</th>\n",
       "      <th>length</th>\n",
       "      <th>question</th>\n",
       "    </tr>\n",
       "  </thead>\n",
       "  <tbody>\n",
       "    <tr>\n",
       "      <th>0</th>\n",
       "      <td>One of the most important things I didn't unde...</td>\n",
       "      <td>155</td>\n",
       "      <td>What realization did the author have about per...</td>\n",
       "    </tr>\n",
       "    <tr>\n",
       "      <th>1</th>\n",
       "      <td>Teachers and coaches implicitly told us the re...</td>\n",
       "      <td>313</td>\n",
       "      <td>What misconception do teachers and coaches oft...</td>\n",
       "    </tr>\n",
       "    <tr>\n",
       "      <th>2</th>\n",
       "      <td>It's obviously true that the returns for perfo...</td>\n",
       "      <td>429</td>\n",
       "      <td>What is the nature of superlinear returns in v...</td>\n",
       "    </tr>\n",
       "    <tr>\n",
       "      <th>3</th>\n",
       "      <td>You can't understand the world without underst...</td>\n",
       "      <td>178</td>\n",
       "      <td>What concept is essential for understanding th...</td>\n",
       "    </tr>\n",
       "    <tr>\n",
       "      <th>4</th>\n",
       "      <td>It may seem as if there are a lot of different...</td>\n",
       "      <td>182</td>\n",
       "      <td>What are the two fundamental causes of superli...</td>\n",
       "    </tr>\n",
       "  </tbody>\n",
       "</table>\n",
       "</div>"
      ],
      "text/plain": [
       "                                           paragraph  length  \\\n",
       "0  One of the most important things I didn't unde...     155   \n",
       "1  Teachers and coaches implicitly told us the re...     313   \n",
       "2  It's obviously true that the returns for perfo...     429   \n",
       "3  You can't understand the world without underst...     178   \n",
       "4  It may seem as if there are a lot of different...     182   \n",
       "\n",
       "                                            question  \n",
       "0  What realization did the author have about per...  \n",
       "1  What misconception do teachers and coaches oft...  \n",
       "2  What is the nature of superlinear returns in v...  \n",
       "3  What concept is essential for understanding th...  \n",
       "4  What are the two fundamental causes of superli...  "
      ]
     },
     "execution_count": 11,
     "metadata": {},
     "output_type": "execute_result"
    }
   ],
   "source": [
    "filtered_df.head()\n"
   ]
  },
  {
   "cell_type": "code",
   "execution_count": 12,
   "id": "f4c7a836",
   "metadata": {},
   "outputs": [
    {
     "name": "stdout",
     "output_type": "stream",
     "text": [
      "Saved 4846 examples → fine_tune_data.jsonl\n"
     ]
    }
   ],
   "source": [
    "import json\n",
    "\n",
    "# --- helper: convert one row to chat format -----------------\n",
    "def to_chat_example(row):\n",
    "    return {\n",
    "        \"messages\": [\n",
    "            {\"role\": \"user\",      \"content\": row[\"question\"]},\n",
    "            {\"role\": \"assistant\", \"content\": row[\"paragraph\"]}\n",
    "        ]\n",
    "    }\n",
    "\n",
    "# --- build list of training examples ------------------------\n",
    "chat_examples = (\n",
    "    filtered_df\n",
    "      .apply(to_chat_example, axis=1)   # convert every row\n",
    "      .tolist()                         # turn Series → list\n",
    ")\n",
    "\n",
    "# --- write out as newline‑delimited JSON --------------------\n",
    "out_path = \"fine_tune_data.jsonl\"\n",
    "with open(out_path, \"w\", encoding=\"utf‑8\") as f:\n",
    "    for ex in chat_examples:\n",
    "        f.write(json.dumps(ex, ensure_ascii=False) + \"\\n\")\n",
    "\n",
    "print(f\"Saved {len(chat_examples)} examples → {out_path}\")"
   ]
  }
 ],
 "metadata": {
  "kernelspec": {
   "display_name": "Python 3",
   "language": "python",
   "name": "python3"
  },
  "language_info": {
   "codemirror_mode": {
    "name": "ipython",
    "version": 3
   },
   "file_extension": ".py",
   "mimetype": "text/x-python",
   "name": "python",
   "nbconvert_exporter": "python",
   "pygments_lexer": "ipython3",
   "version": "3.11.4"
  }
 },
 "nbformat": 4,
 "nbformat_minor": 5
}
